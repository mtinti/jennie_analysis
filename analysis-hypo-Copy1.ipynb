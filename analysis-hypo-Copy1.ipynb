{
 "cells": [
  {
   "cell_type": "code",
   "execution_count": 109,
   "metadata": {},
   "outputs": [],
   "source": [
    "import pandas as pd\n",
    "import numpy as np\n",
    "import matplotlib\n",
    "import matplotlib.pyplot as plt\n",
    "%matplotlib inline\n",
    "import  seaborn as sns\n",
    "\n",
    "from utility import utilities"
   ]
  },
  {
   "cell_type": "code",
   "execution_count": 110,
   "metadata": {},
   "outputs": [
    {
     "name": "stdout",
     "output_type": "stream",
     "text": [
      "before (8304, 10)\n",
      "after (7478, 10)\n"
     ]
    }
   ],
   "source": [
    "df = pd.read_table('Hippo_2.txt')\n",
    "df.set_index('Fasta headers',inplace=True)\n",
    "#rename columns\n",
    "df.columns = ['ND_1','ND_2','ND_3','HF_1','HF_2','HF_3','KO_1','KO_2','KO_3','null']\n",
    "#print (df.reset_index(drop=True).head())\n",
    "\n",
    "#remove all zeros rows\n",
    "print ('before', df.shape)\n",
    "df = df[(df.T != 0).any()]\n",
    "print ('after', df.shape)\n",
    "\n",
    "norm = utilities.quantileNormalize(df)"
   ]
  },
  {
   "cell_type": "code",
   "execution_count": 121,
   "metadata": {},
   "outputs": [],
   "source": [
    "df['FN1']=df['HF_1']/df['ND_1']\n",
    "df['FN2']=df['HF_2']/df['ND_1']\n",
    "df['FN3']=df['HF_3']/df['ND_1']\n",
    "df['FN4']=df['HF_1']/df['ND_2']\n",
    "df['FN5']=df['HF_2']/df['ND_2']\n",
    "df['FN6']=df['HF_3']/df['ND_2']\n",
    "df['FN7']=df['HF_1']/df['ND_3']\n",
    "df['FN8']=df['HF_2']/df['ND_3']\n",
    "df['FN9']=df['HF_3']/df['ND_3']\n",
    "df['KN1']=df['KO_1']/df['ND_1']\n",
    "df['KN2']=df['KO_2']/df['ND_1']\n",
    "df['KN3']=df['KO_3']/df['ND_1']\n",
    "df['KN4']=df['KO_1']/df['ND_2']\n",
    "df['KN5']=df['KO_2']/df['ND_2']\n",
    "df['KN6']=df['KO_3']/df['ND_2']\n",
    "df['KN7']=df['KO_1']/df['ND_3']\n",
    "df['KN8']=df['KO_2']/df['ND_3']\n",
    "df['KN9']=df['KO_3']/df['ND_3']"
   ]
  },
  {
   "cell_type": "code",
   "execution_count": 112,
   "metadata": {},
   "outputs": [
    {
     "name": "stderr",
     "output_type": "stream",
     "text": [
      "/Users/mtinti/miniconda2/envs/commonPy3/lib/python3.6/site-packages/ipykernel_launcher.py:2: RuntimeWarning: divide by zero encountered in log2\n",
      "  \n"
     ]
    },
    {
     "data": {
      "text/plain": [
       "<matplotlib.axes._subplots.AxesSubplot at 0x12332c550>"
      ]
     },
     "execution_count": 112,
     "metadata": {},
     "output_type": "execute_result"
    },
    {
     "data": {
      "image/png": "[encoded data removed]",
      "text/plain": [
       "<matplotlib.figure.Figure at 0x121e044a8>"
      ]
     },
     "metadata": {},
     "output_type": "display_data"
    }
   ],
   "source": [
    "temp = df[['FN1','FN2','FN3','FN4','FN5','FN6','FN7','FN8','FN9']]\n",
    "np.log2(temp).plot(kind='box')"
   ]
  },
  {
   "cell_type": "code",
   "execution_count": 113,
   "metadata": {},
   "outputs": [
    {
     "data": {
      "text/plain": [
       "<matplotlib.axes._subplots.AxesSubplot at 0x12269e5f8>"
      ]
     },
     "execution_count": 113,
     "metadata": {},
     "output_type": "execute_result"
    },
    {
     "data": {
      "image/png": "[encoded data removed]",
      "text/plain": [
       "<matplotlib.figure.Figure at 0x11d873a58>"
      ]
     },
     "metadata": {},
     "output_type": "display_data"
    }
   ],
   "source": [
    "np.log2(utilities.quantileNormalize(temp)).plot(kind='box')"
   ]
  },
  {
   "cell_type": "code",
   "execution_count": 115,
   "metadata": {},
   "outputs": [
    {
     "name": "stderr",
     "output_type": "stream",
     "text": [
      "/Users/mtinti/miniconda2/envs/commonPy3/lib/python3.6/site-packages/numpy/core/_methods.py:112: RuntimeWarning: invalid value encountered in subtract\n",
      "  x = asanyarray(arr - arrmean)\n"
     ]
    }
   ],
   "source": [
    "norm = np.log2(utilities.quantileNormalize(temp))\n",
    "pvals=[]\n",
    "tvals=[]\n",
    "for item in norm.index.values:\n",
    "    a = norm.loc[item].values\n",
    "    b = np.zeros(a.shape[0])\n",
    "    onesample_results = ttest_ind(a,b)\n",
    "    pvals.append(onesample_results[1])\n",
    "    tvals.append(onesample_results[0])"
   ]
  },
  {
   "cell_type": "code",
   "execution_count": 116,
   "metadata": {},
   "outputs": [
    {
     "data": {
      "text/plain": [
       "FN1       0.128311\n",
       "FN2       0.207256\n",
       "FN3       0.508070\n",
       "FN4       0.118456\n",
       "FN5       0.186184\n",
       "FN6       0.421942\n",
       "FN7       0.165090\n",
       "FN8       0.280710\n",
       "FN9       0.511957\n",
       "T_test    5.298210\n",
       "PVAL      0.000072\n",
       "Name: sp|Q9Z2H5|E41L1_MOUSE Band 4.1-like protein 1 OS=Mus musculus GN=Epb41l1 PE=1 SV=2;sp|Q9Z2H5-2|E41L1_MOUSE Isoform 2 of Band 4.1-like protein 1 OS=Mus musculus GN=Epb41l1;sp|Q9Z2H5-3|E41L1_MOUSE Isoform 3 of Band 4.1-like protein 1 OS=Mus musculus GN=Epb41, dtype: float64"
      ]
     },
     "execution_count": 116,
     "metadata": {},
     "output_type": "execute_result"
    }
   ],
   "source": [
    "norm['T_test']=tvals\n",
    "norm['PVAL']=pvals\n",
    "#norm['log2FC']=np.log2(norm.iloc[:,0:3].median(axis=1)/norm.iloc[:,3:6].median(axis=1))\n",
    "#norm['log2FC']=np.exp(norm.iloc[:,0:3].median(axis=1)+norm.iloc[:,3:6].median(axis=1))\n",
    "norm.loc['sp|Q9Z2H5|E41L1_MOUSE Band 4.1-like protein 1 OS=Mus musculus GN=Epb41l1 PE=1 SV=2;sp|Q9Z2H5-2|E41L1_MOUSE Isoform 2 of Band 4.1-like protein 1 OS=Mus musculus GN=Epb41l1;sp|Q9Z2H5-3|E41L1_MOUSE Isoform 3 of Band 4.1-like protein 1 OS=Mus musculus GN=Epb41']"
   ]
  },
  {
   "cell_type": "code",
   "execution_count": 117,
   "metadata": {},
   "outputs": [
    {
     "data": {
      "image/png": "[encoded data removed]",
      "text/plain": [
       "<matplotlib.figure.Figure at 0x1226aca58>"
      ]
     },
     "metadata": {},
     "output_type": "display_data"
    }
   ],
   "source": [
    "norm['PVAL'].plot(kind='hist',bins=10)\n",
    "plt.title('p-val distributions')\n",
    "plt.show()"
   ]
  },
  {
   "cell_type": "code",
   "execution_count": 118,
   "metadata": {},
   "outputs": [
    {
     "name": "stderr",
     "output_type": "stream",
     "text": [
      "/Users/mtinti/miniconda2/envs/commonPy3/lib/python3.6/site-packages/statsmodels/stats/multitest.py:147: RuntimeWarning: invalid value encountered in less_equal\n",
      "  reject = pvals <= alphacBonf\n",
      "/Users/mtinti/miniconda2/envs/commonPy3/lib/python3.6/site-packages/statsmodels/stats/multitest.py:251: RuntimeWarning: invalid value encountered in greater\n",
      "  pvals_corrected[pvals_corrected>1] = 1\n"
     ]
    }
   ],
   "source": [
    "from statsmodels.sandbox.stats.multicomp import multipletests\n",
    "p_adjusted = multipletests(norm['PVAL'], method='bonferroni')\n",
    "norm['PVAL_ADJ']=p_adjusted[1]\n",
    "norm['mean']=p_adjusted[1]"
   ]
  },
  {
   "cell_type": "code",
   "execution_count": 120,
   "metadata": {},
   "outputs": [
    {
     "name": "stdout",
     "output_type": "stream",
     "text": [
      "(5, 13)\n",
      "                                                         FN1       FN2  \\\n",
      "Fasta headers                                                            \n",
      "tr|G5E846|G5E846_MOUSE Peripherin OS=Mus muscul... -0.365406 -0.429904   \n",
      "tr|Q3U699|Q3U699_MOUSE Putative uncharacterized... -0.274794 -0.294672   \n",
      "sp|O35685|NUDC_MOUSE Nuclear migration protein ...  0.366012  0.210879   \n",
      "sp|Q6PGL7|WASC2_MOUSE WASH complex subunit 2 OS...  0.422445  0.358502   \n",
      "tr|Q6PDS2|Q6PDS2_MOUSE Ubr7 protein (Fragment) ...  0.284828  0.335843   \n",
      "\n",
      "                                                         FN3       FN4  \\\n",
      "Fasta headers                                                            \n",
      "tr|G5E846|G5E846_MOUSE Peripherin OS=Mus muscul... -0.465071 -0.461464   \n",
      "tr|Q3U699|Q3U699_MOUSE Putative uncharacterized... -0.417865 -0.536375   \n",
      "sp|O35685|NUDC_MOUSE Nuclear migration protein ...  0.277509  0.391976   \n",
      "sp|Q6PGL7|WASC2_MOUSE WASH complex subunit 2 OS...  0.295577  0.323346   \n",
      "tr|Q6PDS2|Q6PDS2_MOUSE Ubr7 protein (Fragment) ...  0.200604  0.228720   \n",
      "\n",
      "                                                         FN5       FN6  \\\n",
      "Fasta headers                                                            \n",
      "tr|G5E846|G5E846_MOUSE Peripherin OS=Mus muscul... -0.554390 -0.440198   \n",
      "tr|Q3U699|Q3U699_MOUSE Putative uncharacterized... -0.525226 -0.530595   \n",
      "sp|O35685|NUDC_MOUSE Nuclear migration protein ...  0.272378  0.294191   \n",
      "sp|Q6PGL7|WASC2_MOUSE WASH complex subunit 2 OS...  0.312987  0.183987   \n",
      "tr|Q6PDS2|Q6PDS2_MOUSE Ubr7 protein (Fragment) ...  0.303549  0.138088   \n",
      "\n",
      "                                                         FN7       FN8  \\\n",
      "Fasta headers                                                            \n",
      "tr|G5E846|G5E846_MOUSE Peripherin OS=Mus muscul... -0.457435 -0.594632   \n",
      "tr|Q3U699|Q3U699_MOUSE Putative uncharacterized... -0.496007 -0.486141   \n",
      "sp|O35685|NUDC_MOUSE Nuclear migration protein ...  0.344683  0.125610   \n",
      "sp|Q6PGL7|WASC2_MOUSE WASH complex subunit 2 OS...  0.283007  0.227969   \n",
      "tr|Q6PDS2|Q6PDS2_MOUSE Ubr7 protein (Fragment) ...  0.347018  0.417984   \n",
      "\n",
      "                                                         FN9     T_test  \\\n",
      "Fasta headers                                                             \n",
      "tr|G5E846|G5E846_MOUSE Peripherin OS=Mus muscul... -0.345368 -17.280037   \n",
      "tr|Q3U699|Q3U699_MOUSE Putative uncharacterized... -0.396120 -13.122895   \n",
      "sp|O35685|NUDC_MOUSE Nuclear migration protein ...  0.152893   8.783684   \n",
      "sp|Q6PGL7|WASC2_MOUSE WASH complex subunit 2 OS...  0.034193   7.232275   \n",
      "tr|Q6PDS2|Q6PDS2_MOUSE Ubr7 protein (Fragment) ...  0.187916   9.099888   \n",
      "\n",
      "                                                            PVAL  \\\n",
      "Fasta headers                                                      \n",
      "tr|G5E846|G5E846_MOUSE Peripherin OS=Mus muscul...  8.995851e-12   \n",
      "tr|Q3U699|Q3U699_MOUSE Putative uncharacterized...  5.571668e-10   \n",
      "sp|O35685|NUDC_MOUSE Nuclear migration protein ...  1.616292e-07   \n",
      "sp|Q6PGL7|WASC2_MOUSE WASH complex subunit 2 OS...  2.000923e-06   \n",
      "tr|Q6PDS2|Q6PDS2_MOUSE Ubr7 protein (Fragment) ...  1.003521e-07   \n",
      "\n",
      "                                                        PVAL_ADJ      mean  \n",
      "Fasta headers                                                               \n",
      "tr|G5E846|G5E846_MOUSE Peripherin OS=Mus muscul...  6.727097e-08 -0.457096  \n",
      "tr|Q3U699|Q3U699_MOUSE Putative uncharacterized...  4.166493e-06 -0.439755  \n",
      "sp|O35685|NUDC_MOUSE Nuclear migration protein ...  1.208663e-03  0.270681  \n",
      "sp|Q6PGL7|WASC2_MOUSE WASH complex subunit 2 OS...  1.496290e-02  0.271335  \n",
      "tr|Q6PDS2|Q6PDS2_MOUSE Ubr7 protein (Fragment) ...  7.504332e-04  0.271617  \n"
     ]
    }
   ],
   "source": [
    "norm['mean'] = norm[['FN1','FN2','FN3','FN4','FN5','FN6','FN7','FN8','FN9']].mean(axis=1)\n",
    "selection = norm[(norm['PVAL_ADJ']<0.05)& ( (norm['mean']>0.27)| (norm['mean']<-0.27))].sort_values(by='mean',ascending=True).head()\n",
    "print (selection.shape)\n",
    "print (selection.head())\n"
   ]
  },
  {
   "cell_type": "code",
   "execution_count": 100,
   "metadata": {},
   "outputs": [
    {
     "data": {
      "text/plain": [
       "0.26303440583379378"
      ]
     },
     "execution_count": 100,
     "metadata": {},
     "output_type": "execute_result"
    }
   ],
   "source": [
    "np.log2(1.2)"
   ]
  },
  {
   "cell_type": "code",
   "execution_count": 122,
   "metadata": {},
   "outputs": [
    {
     "data": {
      "text/plain": [
       "<matplotlib.axes._subplots.AxesSubplot at 0x123129ef0>"
      ]
     },
     "execution_count": 122,
     "metadata": {},
     "output_type": "execute_result"
    },
    {
     "data": {
      "image/png": "[encoded data removed]",
      "text/plain": [
       "<matplotlib.figure.Figure at 0x122fb4390>"
      ]
     },
     "metadata": {},
     "output_type": "display_data"
    }
   ],
   "source": [
    "temp = df[['KN1','KN2','KN3','KN4','KN5','KN6','KN7','KN8','KN9']]\n",
    "np.log2(temp).plot(kind='box')"
   ]
  },
  {
   "cell_type": "code",
   "execution_count": 123,
   "metadata": {},
   "outputs": [
    {
     "name": "stderr",
     "output_type": "stream",
     "text": [
      "/Users/mtinti/miniconda2/envs/commonPy3/lib/python3.6/site-packages/numpy/core/_methods.py:112: RuntimeWarning: invalid value encountered in subtract\n",
      "  x = asanyarray(arr - arrmean)\n"
     ]
    }
   ],
   "source": [
    "norm = np.log2(utilities.quantileNormalize(temp))\n",
    "pvals=[]\n",
    "tvals=[]\n",
    "for item in norm.index.values:\n",
    "    a = norm.loc[item].values\n",
    "    b = np.zeros(a.shape[0])\n",
    "    onesample_results = ttest_ind(a,b)\n",
    "    pvals.append(onesample_results[1])\n",
    "    tvals.append(onesample_results[0])"
   ]
  },
  {
   "cell_type": "code",
   "execution_count": 125,
   "metadata": {},
   "outputs": [
    {
     "name": "stderr",
     "output_type": "stream",
     "text": [
      "/Users/mtinti/miniconda2/envs/commonPy3/lib/python3.6/site-packages/statsmodels/stats/multitest.py:147: RuntimeWarning: invalid value encountered in less_equal\n",
      "  reject = pvals <= alphacBonf\n",
      "/Users/mtinti/miniconda2/envs/commonPy3/lib/python3.6/site-packages/statsmodels/stats/multitest.py:251: RuntimeWarning: invalid value encountered in greater\n",
      "  pvals_corrected[pvals_corrected>1] = 1\n"
     ]
    }
   ],
   "source": [
    "norm['T_test']=tvals\n",
    "norm['PVAL']=pvals\n",
    "\n",
    "from statsmodels.sandbox.stats.multicomp import multipletests\n",
    "p_adjusted = multipletests(norm['PVAL'], method='bonferroni')\n",
    "norm['PVAL_ADJ']=p_adjusted[1]\n",
    "norm['mean']=p_adjusted[1]"
   ]
  },
  {
   "cell_type": "code",
   "execution_count": 126,
   "metadata": {},
   "outputs": [
    {
     "data": {
      "image/png": "[encoded data removed]",
      "text/plain": [
       "<matplotlib.figure.Figure at 0x1226ac438>"
      ]
     },
     "metadata": {},
     "output_type": "display_data"
    }
   ],
   "source": [
    "norm['PVAL'].plot(kind='hist',bins=10)\n",
    "plt.title('p-val distributions')\n",
    "plt.show()"
   ]
  },
  {
   "cell_type": "code",
   "execution_count": 127,
   "metadata": {},
   "outputs": [
    {
     "name": "stdout",
     "output_type": "stream",
     "text": [
      "(5, 13)\n",
      "                                                         KN1       KN2  \\\n",
      "Fasta headers                                                            \n",
      "sp|Q8BWU8|AT2L1_MOUSE Ethanolamine-phosphate ph... -0.957945 -0.773625   \n",
      "tr|A0A0M4KM70|A0A0M4KM70_MOUSE Monoclonal 11D8 ... -0.730979 -1.485591   \n",
      "tr|Q65ZC0|Q65ZC0_MOUSE Kappa light chain C_regi... -0.494483 -1.284931   \n",
      "tr|Q58E56|Q58E56_MOUSE Igh protein OS=Mus muscu... -0.572179 -1.130794   \n",
      "tr|Q8C7R1|Q8C7R1_MOUSE Putative uncharacterized... -0.650840 -0.870501   \n",
      "\n",
      "                                                         KN3       KN4  \\\n",
      "Fasta headers                                                            \n",
      "sp|Q8BWU8|AT2L1_MOUSE Ethanolamine-phosphate ph... -1.229202 -1.316501   \n",
      "tr|A0A0M4KM70|A0A0M4KM70_MOUSE Monoclonal 11D8 ... -1.130794 -0.831382   \n",
      "tr|Q65ZC0|Q65ZC0_MOUSE Kappa light chain C_regi... -0.957945 -0.405119   \n",
      "tr|Q58E56|Q58E56_MOUSE Igh protein OS=Mus muscu... -1.032450 -0.457281   \n",
      "tr|Q8C7R1|Q8C7R1_MOUSE Putative uncharacterized... -0.900128 -0.717983   \n",
      "\n",
      "                                                         KN5       KN6  \\\n",
      "Fasta headers                                                            \n",
      "sp|Q8BWU8|AT2L1_MOUSE Ethanolamine-phosphate ph... -0.765118 -1.284931   \n",
      "tr|A0A0M4KM70|A0A0M4KM70_MOUSE Monoclonal 11D8 ... -1.485591 -1.164525   \n",
      "tr|Q65ZC0|Q65ZC0_MOUSE Kappa light chain C_regi... -1.032450 -0.900128   \n",
      "tr|Q58E56|Q58E56_MOUSE Igh protein OS=Mus muscu... -0.907419 -0.920001   \n",
      "tr|Q8C7R1|Q8C7R1_MOUSE Putative uncharacterized... -0.838452 -0.883772   \n",
      "\n",
      "                                                         KN7       KN8  \\\n",
      "Fasta headers                                                            \n",
      "sp|Q8BWU8|AT2L1_MOUSE Ethanolamine-phosphate ph... -1.694580 -1.073113   \n",
      "tr|A0A0M4KM70|A0A0M4KM70_MOUSE Monoclonal 11D8 ... -0.800194 -1.103559   \n",
      "tr|Q65ZC0|Q65ZC0_MOUSE Kappa light chain C_regi... -0.690345 -1.130794   \n",
      "tr|Q58E56|Q58E56_MOUSE Igh protein OS=Mus muscu... -0.768252 -1.052802   \n",
      "tr|Q8C7R1|Q8C7R1_MOUSE Putative uncharacterized... -0.984229 -0.928728   \n",
      "\n",
      "                                                         KN9     T_test  \\\n",
      "Fasta headers                                                             \n",
      "sp|Q8BWU8|AT2L1_MOUSE Ethanolamine-phosphate ph... -1.485591 -11.237032   \n",
      "tr|A0A0M4KM70|A0A0M4KM70_MOUSE Monoclonal 11D8 ... -1.032450 -11.853688   \n",
      "tr|Q65ZC0|Q65ZC0_MOUSE Kappa light chain C_regi... -1.073113  -8.956651   \n",
      "tr|Q58E56|Q58E56_MOUSE Igh protein OS=Mus muscu... -1.103559 -11.114310   \n",
      "tr|Q8C7R1|Q8C7R1_MOUSE Putative uncharacterized... -1.052802 -21.029689   \n",
      "\n",
      "                                                            PVAL  \\\n",
      "Fasta headers                                                      \n",
      "sp|Q8BWU8|AT2L1_MOUSE Ethanolamine-phosphate ph...  5.296946e-09   \n",
      "tr|A0A0M4KM70|A0A0M4KM70_MOUSE Monoclonal 11D8 ...  2.457146e-09   \n",
      "tr|Q65ZC0|Q65ZC0_MOUSE Kappa light chain C_regi...  1.243567e-07   \n",
      "tr|Q58E56|Q58E56_MOUSE Igh protein OS=Mus muscu...  6.196426e-09   \n",
      "tr|Q8C7R1|Q8C7R1_MOUSE Putative uncharacterized...  4.406600e-13   \n",
      "\n",
      "                                                        PVAL_ADJ      mean  \n",
      "Fasta headers                                                               \n",
      "sp|Q8BWU8|AT2L1_MOUSE Ethanolamine-phosphate ph...  3.961056e-05 -1.175623  \n",
      "tr|A0A0M4KM70|A0A0M4KM70_MOUSE Monoclonal 11D8 ...  1.837454e-05 -1.085007  \n",
      "tr|Q65ZC0|Q65ZC0_MOUSE Kappa light chain C_regi...  9.299395e-04 -0.885479  \n",
      "tr|Q58E56|Q58E56_MOUSE Igh protein OS=Mus muscu...  4.633688e-05 -0.882749  \n",
      "tr|Q8C7R1|Q8C7R1_MOUSE Putative uncharacterized...  3.295256e-09 -0.869715  \n"
     ]
    }
   ],
   "source": [
    "norm['mean'] = norm[['KN1','KN2','KN3','KN4','KN5','KN6','KN7','KN8','KN9']].mean(axis=1)\n",
    "selection = norm[(norm['PVAL_ADJ']<0.05)& ( (norm['mean']>0.27)| (norm['mean']<-0.27))].sort_values(by='mean',ascending=True).head()\n",
    "print (selection.shape)\n",
    "print (selection.head())\n"
   ]
  },
  {
   "cell_type": "code",
   "execution_count": null,
   "metadata": {},
   "outputs": [],
   "source": [
    "Fasta headers                                                               \n",
    "sp|Q8BWU8|AT2L1_MOUSE Ethanolamine-phosphate ph...  3.961056e-05 -1.175623  \n",
    "tr|A0A0M4KM70|A0A0M4KM70_MOUSE Monoclonal 11D8 ...  1.837454e-05 -1.085007  \n",
    "tr|Q65ZC0|Q65ZC0_MOUSE Kappa light chain C_regi...  9.299395e-04 -0.885479  \n",
    "tr|Q58E56|Q58E56_MOUSE Igh protein OS=Mus muscu...  4.633688e-05 -0.882749  \n",
    "tr|Q8C7R1|Q8C7R1_MOUSE Putative uncharacterized...  3.295256e-09 -0.869715 \n",
    "\n",
    "\n",
    "tr|G5E846|G5E846_MOUSE Peripherin OS=Mus muscul...  6.727097e-08 -0.457096  \n",
    "tr|Q3U699|Q3U699_MOUSE Putative uncharacterized...  4.166493e-06 -0.439755  \n",
    "sp|O35685|NUDC_MOUSE Nuclear migration protein ...  1.208663e-03  0.270681  \n",
    "sp|Q6PGL7|WASC2_MOUSE WASH complex subunit 2 OS...  1.496290e-02  0.271335  \n",
    "tr|Q6PDS2|Q6PDS2_MOUSE Ubr7 protein (Fragment) ...  7.504332e-04  0.271617  "
   ]
  },
  {
   "cell_type": "code",
   "execution_count": 128,
   "metadata": {},
   "outputs": [
    {
     "data": {
      "image/png": "[encoded data removed]",
      "text/plain": [
       "<matplotlib.figure.Figure at 0x123119710>"
      ]
     },
     "metadata": {},
     "output_type": "display_data"
    }
   ],
   "source": [
    "import pylab\n",
    "import scipy.stats as stats\n",
    "stats.probplot(norm['PVAL'], dist=\"norm\", plot=pylab)\n",
    "pylab.show()"
   ]
  },
  {
   "cell_type": "code",
   "execution_count": null,
   "metadata": {},
   "outputs": [],
   "source": []
  }
 ],
 "metadata": {
  "kernelspec": {
   "display_name": "Python 3",
   "language": "python",
   "name": "python3"
  },
  "language_info": {
   "codemirror_mode": {
    "name": "ipython",
    "version": 3
   },
   "file_extension": ".py",
   "mimetype": "text/x-python",
   "name": "python",
   "nbconvert_exporter": "python",
   "pygments_lexer": "ipython3",
   "version": "3.6.3"
  }
 },
 "nbformat": 4,
 "nbformat_minor": 2
}
